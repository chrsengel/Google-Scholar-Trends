{
 "cells": [
  {
   "cell_type": "code",
   "execution_count": null,
   "metadata": {},
   "outputs": [],
   "source": [
    "!pip install matplotlib requests bs4 ipython"
   ]
  },
  {
   "cell_type": "code",
   "execution_count": null,
   "metadata": {},
   "outputs": [],
   "source": [
    "%matplotlib inline\n",
    "import matplotlib.pyplot as plt\n",
    "\n",
    "import requests, time, pickle\n",
    "from bs4 import BeautifulSoup as soup\n",
    "from IPython.core.display import display, HTML\n",
    "def html(h):\n",
    "    display(HTML(h))"
   ]
  },
  {
   "cell_type": "code",
   "execution_count": null,
   "metadata": {},
   "outputs": [],
   "source": [
    "plt.rcParams.update({'font.size': 20})"
   ]
  },
  {
   "cell_type": "markdown",
   "metadata": {},
   "source": [
    "# NOTICE: Need to change the values for the variable your_header here\n",
    "Here is where you can copy the Headers: [The Screenshot](screenshot.png)\n",
    "\n",
    "And a warning: although this is a polit crawler, it may still cause Google Scholar to be cautious about your IP address."
   ]
  },
  {
   "cell_type": "code",
   "execution_count": null,
   "metadata": {},
   "outputs": [],
   "source": [
    "# NOTICE: here is the tricky part:\n",
    "# 1) Open a Firefox Private Window,\n",
    "# 2) Press F12, go to the Network tab,\n",
    "# 3) Go to scholar.google.com,\n",
    "# 4) Copy All Headers and Paste the headers below\n",
    "# 5) Then run the rest of the code.\n",
    "headers = 'h3=\":443\"; ma=2592000,h3-29=\":443\"; ma=2592000,h3-Q050=\":443\"; ma=2592000,h3-Q046=\":443\"; ma=2592000,h3-Q043=\":443\"; ma=2592000,quic=\":443\"; ma=2592000; v=\"46,43\"'\n",
    "headers = headers.replace('\"', '\\\\\"')"
   ]
  },
  {
   "cell_type": "code",
   "execution_count": null,
   "metadata": {
    "scrolled": true
   },
   "outputs": [],
   "source": [
    "# Build a fake header\n",
    "# b is copied from Firefox->F12->Network->Headers\n",
    "# the key Request Headers 740 B should change accordingly\n",
    "headers = {}\n",
    "#your_header = {\"Response Headers (543 B)\":{\"headers\":[{\"name\":\"alt-svc\",\"value\":\"h3=\\\":443\\\"; ma=2592000,h3-29=\\\":443\\\"; ma=2592000,h3-Q050=\\\":443\\\"; ma=2592000,h3-Q046=\\\":443\\\"; ma=2592000,h3-Q043=\\\":443\\\"; ma=2592000,quic=\\\":443\\\"; ma=2592000; v=\\\"46,43\\\"\"},{\"name\":\"cache-control\",\"value\":\"private, max-age=0\"},{\"name\":\"content-encoding\",\"value\":\"gzip\"},{\"name\":\"content-type\",\"value\":\"text/html; charset=UTF-8\"},{\"name\":\"date\",\"value\":\"Mon, 11 May 2020 14:47:50 GMT\"},{\"name\":\"expires\",\"value\":\"Mon, 11 May 2020 14:47:50 GMT\"},{\"name\":\"server\",\"value\":\"scholar\"},{\"name\":\"x-content-type-options\",\"value\":\"nosniff\"},{\"name\":\"X-Firefox-Spdy\",\"value\":\"h2\"},{\"name\":\"x-frame-options\",\"value\":\"SAMEORIGIN\"},{\"name\":\"x-xss-protection\",\"value\":\"0\"}]},\"Request Headers (699 B)\":{\"headers\":[{\"name\":\"Accept\",\"value\":\"text/html,application/xhtml+xml,application/xml;q=0.9,image/webp,*/*;q=0.8\"},{\"name\":\"Accept-Encoding\",\"value\":\"gzip, deflate, br\"},{\"name\":\"Accept-Language\",\"value\":\"en-US,en;q=0.5\"},{\"name\":\"Cache-Control\",\"value\":\"max-age=0\"},{\"name\":\"Connection\",\"value\":\"keep-alive\"},{\"name\":\"Cookie\",\"value\":\"1P_JAR=2020-05-11-14; NID=204=x_pazZLcZzIcf7Mgstvc3gMkvlqwlq0bx67Idc0qnbLVOzTf1cicKHmBr2hsMvFxUjnng7j2ewfqfvuPHZMSxu55-ero5h8bGcJ1boiZF7E9DoeUXwSRUTIGD5jF4rJk5LYawTx3Dvugb9JjbHKYu2d3F51ybPQZV8lOz7lbtEU; GSP=LM=1589208463:S=kJAM9K07dK4mvJoE\"},{\"name\":\"DNT\",\"value\":\"1\"},{\"name\":\"Host\",\"value\":\"scholar.google.com\"},{\"name\":\"Referer\",\"value\":\"https://scholar.google.com/\"},{\"name\":\"TE\",\"value\":\"Trailers\"},{\"name\":\"Upgrade-Insecure-Requests\",\"value\":\"1\"},{\"name\":\"User-Agent\",\"value\":\"Mozilla/5.0 (X11; Ubuntu; Linux x86_64; rv:76.0) Gecko/20100101 Firefox/76.0\"}]}}\n",
    "your_header = {\"Response Headers (543 B)\":{\"headers\":[{\"name\":\"alt-svc\",\"value\": headers },{\"name\":\"cache-control\",\"value\":\"private, max-age=0\"},{\"name\":\"content-encoding\",\"value\":\"gzip\"},{\"name\":\"content-type\",\"value\":\"text/html; charset=UTF-8\"},{\"name\":\"date\",\"value\":\"Mon, 11 May 2020 14:47:50 GMT\"},{\"name\":\"expires\",\"value\":\"Mon, 11 May 2020 14:47:50 GMT\"},{\"name\":\"server\",\"value\":\"scholar\"},{\"name\":\"x-content-type-options\",\"value\":\"nosniff\"},{\"name\":\"X-Firefox-Spdy\",\"value\":\"h2\"},{\"name\":\"x-frame-options\",\"value\":\"SAMEORIGIN\"},{\"name\":\"x-xss-protection\",\"value\":\"0\"}]},\"Request Headers (699 B)\":{\"headers\":[{\"name\":\"Accept\",\"value\":\"text/html,application/xhtml+xml,application/xml;q=0.9,image/webp,*/*;q=0.8\"},{\"name\":\"Accept-Encoding\",\"value\":\"gzip, deflate, br\"},{\"name\":\"Accept-Language\",\"value\":\"en-US,en;q=0.5\"},{\"name\":\"Cache-Control\",\"value\":\"max-age=0\"},{\"name\":\"Connection\",\"value\":\"keep-alive\"},{\"name\":\"Cookie\",\"value\":\"1P_JAR=2020-05-11-14; NID=204=x_pazZLcZzIcf7Mgstvc3gMkvlqwlq0bx67Idc0qnbLVOzTf1cicKHmBr2hsMvFxUjnng7j2ewfqfvuPHZMSxu55-ero5h8bGcJ1boiZF7E9DoeUXwSRUTIGD5jF4rJk5LYawTx3Dvugb9JjbHKYu2d3F51ybPQZV8lOz7lbtEU; GSP=LM=1589208463:S=kJAM9K07dK4mvJoE\"},{\"name\":\"DNT\",\"value\":\"1\"},{\"name\":\"Host\",\"value\":\"scholar.google.com\"},{\"name\":\"Referer\",\"value\":\"https://scholar.google.com/\"},{\"name\":\"TE\",\"value\":\"Trailers\"},{\"name\":\"Upgrade-Insecure-Requests\",\"value\":\"1\"},{\"name\":\"User-Agent\",\"value\":\"Mozilla/5.0 (X11; Ubuntu; Linux x86_64; rv:76.0) Gecko/20100101 Firefox/76.0\"}]}}\n",
    "\n",
    "key = list(your_header.keys())[1] # should be something like: 'Request Headers (740 B)'\n",
    "print(key)\n",
    "request_header = your_header[key]['headers']\n",
    "l = len(request_header)\n",
    "for i in range(l):\n",
    "    headers[request_header[i]['name']] = request_header[i]['value']\n"
   ]
  },
  {
   "cell_type": "code",
   "execution_count": null,
   "metadata": {},
   "outputs": [],
   "source": [
    "cache = None\n",
    "def scrape_scholar(terminology, year, force=False):\n",
    "    \"\"\"\n",
    "    terminology is a word or phrase, such as 'genetic algorithms',\n",
    "    year is an integer, such as 2002.\n",
    "    return the html of google scholar.\n",
    "    \n",
    "    need writing permission on the disk to cache the response of google scholar to reduce the number of requests.\n",
    "    note: scrape the page from google scholar is not allowed in ToS.\n",
    "    \"\"\"\n",
    "    global cache\n",
    "    \n",
    "    import os, pickle\n",
    "    if cache is None:\n",
    "        if os.path.exists(\"google.scholar.cache.pickle\"):\n",
    "            with open(\"google.scholar.cache.pickle\", \"rb\") as f:\n",
    "                cache = pickle.load(f)\n",
    "        else:\n",
    "            cache = {}\n",
    "\n",
    "    url = f\"https://scholar.google.com/scholar?q={terminology}&hl=en&as_sdt=0%2C46&as_ylo={year}&as_yhi={year}\"\n",
    "    response = None\n",
    "    if url in cache and not force:\n",
    "        if cache[url].find(\"Our systems have detected unusual traffic from your computer\")==-1:\n",
    "            response = cache[url]\n",
    "    \n",
    "    if response is None:\n",
    "        response = requests.get(url, headers=headers).text\n",
    "        time.sleep(3)\n",
    "        print(f\".\", end='', flush=True)\n",
    "        # cache good response\n",
    "        if response.find(\"Our systems have detected unusual traffic from your computer\")==-1:\n",
    "            cache[url] = response\n",
    "            with open(\"google.scholar.cache.pickle\", \"wb\") as f:\n",
    "                pickle.dump(cache, f)\n",
    "\n",
    "    return cache[url]"
   ]
  },
  {
   "cell_type": "code",
   "execution_count": null,
   "metadata": {},
   "outputs": [],
   "source": [
    "def get_count(text):\n",
    "    \"\"\"\n",
    "    text is the html that contains the counts\n",
    "    return an integer which is the count\n",
    "    \"\"\"\n",
    "    import re\n",
    "    count = 0\n",
    "    try:\n",
    "        m = re.findall(\"About (.*) results\", text)\n",
    "        count = int(m[0].replace(\".\", \"\").replace(\",\",\"\"))\n",
    "    except:\n",
    "        count = 0\n",
    "    return count"
   ]
  },
  {
   "cell_type": "code",
   "execution_count": null,
   "metadata": {},
   "outputs": [],
   "source": [
    "def plot_terms(terms, force=False):\n",
    "    \"\"\"\n",
    "    terms is a list of terminologies, such as ['evolutionary robotics', 'genetic algorithms']\n",
    "    no return.\n",
    "    \"\"\"\n",
    "    plt.figure(figsize=[15,5])\n",
    "    counts = {}\n",
    "    max_count = 0\n",
    "    for term in terms:\n",
    "        start_year = 2000\n",
    "        end_year = 2021 # includes this year\n",
    "        counts[term] = []\n",
    "        years = list(range(start_year, end_year + 1, 1))\n",
    "        for year in years:\n",
    "            html = scrape_scholar(term, year, force)\n",
    "            c = get_count(html)\n",
    "            counts[term].append(c)\n",
    "        plt.plot(years, counts[term], label=term)\n",
    "        if int(max(counts[term])/1000)>max_count:\n",
    "            max_count = int(max(counts[term])/1000)\n",
    "    plt.legend()\n",
    "    num_ticks = list(range(0,max_count+1,int(max_count/10)+1))\n",
    "    num_ticks = [c*1000 for c in num_ticks]\n",
    "    str_ticks = [str(int(c/1000))+'k' for c in num_ticks]\n",
    "    plt.yticks(num_ticks, str_ticks)\n",
    "    plt.xticks(years, rotation=45)\n",
    "    plt.title(\"The Number of Results in Google Scholar over {} years\".format(len(years)-1))\n",
    "    plt.ylabel(\"Number of Results\")\n",
    "    plt.tight_layout()\n",
    "    plt.savefig(\"plot.jpg\")\n",
    "    plt.show()"
   ]
  },
  {
   "cell_type": "code",
   "execution_count": null,
   "metadata": {},
   "outputs": [],
   "source": [
    "plot_terms([\"pseudo labeling\"])"
   ]
  },
  {
   "cell_type": "code",
   "execution_count": null,
   "metadata": {},
   "outputs": [],
   "source": [
    "plot_terms([\"pseudo labeling\", \"consistency regularization\"])"
   ]
  },
  {
   "cell_type": "code",
   "execution_count": null,
   "metadata": {
    "scrolled": false
   },
   "outputs": [],
   "source": [
    "plot_terms([\"convolutional neural network\", \"recurrent neural network\", \"reinforcement learning\"])"
   ]
  },
  {
   "cell_type": "code",
   "execution_count": null,
   "metadata": {},
   "outputs": [],
   "source": [
    "plot_terms([\"genetic programming\", \"genetic algorithm\", \"evolutionary strategies\", \"evolutionary algorithm\"])"
   ]
  },
  {
   "cell_type": "code",
   "execution_count": null,
   "metadata": {},
   "outputs": [],
   "source": [
    "# add a force=True if you want to force the program to fetch data from server, instead of using cache.\n",
    "plot_terms([\"evolutionary algorithm\"], force=True)"
   ]
  },
  {
   "cell_type": "code",
   "execution_count": null,
   "metadata": {},
   "outputs": [],
   "source": []
  }
 ],
 "metadata": {
  "kernelspec": {
   "display_name": "Python 3",
   "language": "python",
   "name": "python3"
  },
  "language_info": {
   "codemirror_mode": {
    "name": "ipython",
    "version": 3
   },
   "file_extension": ".py",
   "mimetype": "text/x-python",
   "name": "python",
   "nbconvert_exporter": "python",
   "pygments_lexer": "ipython3",
   "version": "3.6.13"
  }
 },
 "nbformat": 4,
 "nbformat_minor": 2
}
